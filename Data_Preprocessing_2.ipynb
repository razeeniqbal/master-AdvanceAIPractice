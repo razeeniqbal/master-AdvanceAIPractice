{
  "nbformat": 4,
  "nbformat_minor": 0,
  "metadata": {
    "colab": {
      "provenance": [],
      "authorship_tag": "ABX9TyOn8WUg1dMZ+C53KPaXgK9w",
      "include_colab_link": true
    },
    "kernelspec": {
      "name": "python3",
      "display_name": "Python 3"
    },
    "language_info": {
      "name": "python"
    }
  },
  "cells": [
    {
      "cell_type": "markdown",
      "metadata": {
        "id": "view-in-github",
        "colab_type": "text"
      },
      "source": [
        "<a href=\"https://colab.research.google.com/github/razeeniqbal/master-AdvanceAIPractice/blob/main/Data_Preprocessing_2.ipynb\" target=\"_parent\"><img src=\"https://colab.research.google.com/assets/colab-badge.svg\" alt=\"Open In Colab\"/></a>"
      ]
    },
    {
      "cell_type": "code",
      "execution_count": 2,
      "metadata": {
        "colab": {
          "base_uri": "https://localhost:8080/"
        },
        "id": "Si1ELzFyKRVo",
        "outputId": "bca33e1d-e7b2-492b-fab8-1337172fbc7b"
      },
      "outputs": [
        {
          "output_type": "stream",
          "name": "stdout",
          "text": [
            "                0           1           2           3           4           5  \\\n",
            "count  768.000000  768.000000  768.000000  768.000000  768.000000  768.000000   \n",
            "mean     3.845052  120.894531   69.105469   20.536458   79.799479   31.992578   \n",
            "std      3.369578   31.972618   19.355807   15.952218  115.244002    7.884160   \n",
            "min      0.000000    0.000000    0.000000    0.000000    0.000000    0.000000   \n",
            "25%      1.000000   99.000000   62.000000    0.000000    0.000000   27.300000   \n",
            "50%      3.000000  117.000000   72.000000   23.000000   30.500000   32.000000   \n",
            "75%      6.000000  140.250000   80.000000   32.000000  127.250000   36.600000   \n",
            "max     17.000000  199.000000  122.000000   99.000000  846.000000   67.100000   \n",
            "\n",
            "                6           7           8  \n",
            "count  768.000000  768.000000  768.000000  \n",
            "mean     0.471876   33.240885    0.348958  \n",
            "std      0.331329   11.760232    0.476951  \n",
            "min      0.078000   21.000000    0.000000  \n",
            "25%      0.243750   24.000000    0.000000  \n",
            "50%      0.372500   29.000000    0.000000  \n",
            "75%      0.626250   41.000000    1.000000  \n",
            "max      2.420000   81.000000    1.000000  \n"
          ]
        }
      ],
      "source": [
        "# load and summarize the dataset\n",
        "from pandas import read_csv\n",
        "# load the dataset\n",
        "dataset = read_csv('pima-indians-diabetes.csv', header=None)\n",
        "# summarize the dataset\n",
        "print(dataset.describe())"
      ]
    },
    {
      "cell_type": "code",
      "source": [
        "# count the number of missing values for each column\n",
        "num_missing = (dataset[[1,2,3,4,5,6,7,8]] == 0).sum()\n",
        "# report the results\n",
        "print(num_missing)"
      ],
      "metadata": {
        "id": "PaORfLSHL4AH"
      },
      "execution_count": null,
      "outputs": []
    },
    {
      "cell_type": "code",
      "source": [
        "# verifying the data types of the columns\n",
        "from pandas import read_csv\n",
        "# load the dataset\n",
        "dataset = read_csv('pima-indians-diabetes.csv', header=None)\n",
        "print(dataset.dtypes)"
      ],
      "metadata": {
        "colab": {
          "base_uri": "https://localhost:8080/"
        },
        "id": "eH-o_pooMbeR",
        "outputId": "0b37b7d2-5454-47da-bfc5-4d94aa08387f"
      },
      "execution_count": 7,
      "outputs": [
        {
          "output_type": "stream",
          "name": "stdout",
          "text": [
            "0      int64\n",
            "1      int64\n",
            "2      int64\n",
            "3      int64\n",
            "4      int64\n",
            "5    float64\n",
            "6    float64\n",
            "7      int64\n",
            "8      int64\n",
            "dtype: object\n",
            "     0    1   2   3    4     5      6   7  8\n",
            "0    6  148  72  35    0  33.6  0.627  50  1\n",
            "1    1   85  66  29    0  26.6  0.351  31  0\n",
            "2    8  183  64   0    0  23.3  0.672  32  1\n",
            "3    1   89  66  23   94  28.1  0.167  21  0\n",
            "4    0  137  40  35  168  43.1  2.288  33  1\n",
            "5    5  116  74   0    0  25.6  0.201  30  0\n",
            "6    3   78  50  32   88  31.0  0.248  26  1\n",
            "7   10  115   0   0    0  35.3  0.134  29  0\n",
            "8    2  197  70  45  543  30.5  0.158  53  1\n",
            "9    8  125  96   0    0   0.0  0.232  54  1\n",
            "10   4  110  92   0    0  37.6  0.191  30  0\n",
            "11  10  168  74   0    0  38.0  0.537  34  1\n",
            "12  10  139  80   0    0  27.1  1.441  57  0\n",
            "13   1  189  60  23  846  30.1  0.398  59  1\n",
            "14   5  166  72  19  175  25.8  0.587  51  1\n",
            "15   7  100   0   0    0  30.0  0.484  32  1\n",
            "16   0  118  84  47  230  45.8  0.551  31  1\n",
            "17   7  107  74   0    0  29.6  0.254  31  1\n",
            "18   1  103  30  38   83  43.3  0.183  33  0\n",
            "19   1  115  70  30   96  34.6  0.529  32  1\n",
            "(768, 9)\n"
          ]
        }
      ]
    },
    {
      "cell_type": "code",
      "source": [
        "from numpy import nan\n",
        "# replace '0' values with 'nan'\n",
        "dataset[[1,2,3,4,5]] = dataset[[1,2,3,4,5]].replace(0, nan)\n",
        "# count the number of nan values in each column\n",
        "print(dataset.isnull().sum())\n",
        "print(dataset.head(20))\n",
        "print(dataset.shape)"
      ],
      "metadata": {
        "id": "hZGetmX7NPNZ",
        "outputId": "00f0f658-2922-474b-ce54-eb5c10425574",
        "colab": {
          "base_uri": "https://localhost:8080/"
        }
      },
      "execution_count": 9,
      "outputs": [
        {
          "output_type": "stream",
          "name": "stdout",
          "text": [
            "0      0\n",
            "1      5\n",
            "2     35\n",
            "3    227\n",
            "4    374\n",
            "5     11\n",
            "6      0\n",
            "7      0\n",
            "8      0\n",
            "dtype: int64\n",
            "     0      1     2     3      4     5      6   7  8\n",
            "0    6  148.0  72.0  35.0    NaN  33.6  0.627  50  1\n",
            "1    1   85.0  66.0  29.0    NaN  26.6  0.351  31  0\n",
            "2    8  183.0  64.0   NaN    NaN  23.3  0.672  32  1\n",
            "3    1   89.0  66.0  23.0   94.0  28.1  0.167  21  0\n",
            "4    0  137.0  40.0  35.0  168.0  43.1  2.288  33  1\n",
            "5    5  116.0  74.0   NaN    NaN  25.6  0.201  30  0\n",
            "6    3   78.0  50.0  32.0   88.0  31.0  0.248  26  1\n",
            "7   10  115.0   NaN   NaN    NaN  35.3  0.134  29  0\n",
            "8    2  197.0  70.0  45.0  543.0  30.5  0.158  53  1\n",
            "9    8  125.0  96.0   NaN    NaN   NaN  0.232  54  1\n",
            "10   4  110.0  92.0   NaN    NaN  37.6  0.191  30  0\n",
            "11  10  168.0  74.0   NaN    NaN  38.0  0.537  34  1\n",
            "12  10  139.0  80.0   NaN    NaN  27.1  1.441  57  0\n",
            "13   1  189.0  60.0  23.0  846.0  30.1  0.398  59  1\n",
            "14   5  166.0  72.0  19.0  175.0  25.8  0.587  51  1\n",
            "15   7  100.0   NaN   NaN    NaN  30.0  0.484  32  1\n",
            "16   0  118.0  84.0  47.0  230.0  45.8  0.551  31  1\n",
            "17   7  107.0  74.0   NaN    NaN  29.6  0.254  31  1\n",
            "18   1  103.0  30.0  38.0   83.0  43.3  0.183  33  0\n",
            "19   1  115.0  70.0  30.0   96.0  34.6  0.529  32  1\n",
            "(768, 9)\n"
          ]
        }
      ]
    },
    {
      "cell_type": "code",
      "source": [
        "# drop rows with missing values\n",
        "dataset.dropna(inplace=True)\n",
        "# summarize the shape of the data with missing rows removed\n",
        "print(dataset.shape)"
      ],
      "metadata": {
        "id": "ROfUgwXfN_Lu",
        "outputId": "8f628fbd-e7c5-4236-b458-08c97b0ba5e3",
        "colab": {
          "base_uri": "https://localhost:8080/"
        }
      },
      "execution_count": 10,
      "outputs": [
        {
          "output_type": "stream",
          "name": "stdout",
          "text": [
            "(392, 9)\n"
          ]
        }
      ]
    },
    {
      "cell_type": "code",
      "source": [
        "dataset = read_csv('pima-indians-diabetes.csv', header=None)\n",
        "# mark zero values as missing or NaN\n",
        "dataset[[1,2,3,4,5]] = dataset[[1,2,3,4,5]].replace(0, nan)\n",
        "# fill missing values with mean column values\n",
        "dataset.fillna(dataset.mean(), inplace=True)\n",
        "# count the number of NaN values in each column\n",
        "print(dataset.isnull().sum())\n",
        "print(dataset.head(20))"
      ],
      "metadata": {
        "id": "KzpTa65hOP_T",
        "outputId": "f5a49797-bbfc-4e2f-9a6d-77ffd160b04e",
        "colab": {
          "base_uri": "https://localhost:8080/"
        }
      },
      "execution_count": 12,
      "outputs": [
        {
          "output_type": "stream",
          "name": "stdout",
          "text": [
            "0    0\n",
            "1    0\n",
            "2    0\n",
            "3    0\n",
            "4    0\n",
            "5    0\n",
            "6    0\n",
            "7    0\n",
            "8    0\n",
            "dtype: int64\n",
            "     0      1          2         3           4          5      6   7  8\n",
            "0    6  148.0  72.000000  35.00000  155.548223  33.600000  0.627  50  1\n",
            "1    1   85.0  66.000000  29.00000  155.548223  26.600000  0.351  31  0\n",
            "2    8  183.0  64.000000  29.15342  155.548223  23.300000  0.672  32  1\n",
            "3    1   89.0  66.000000  23.00000   94.000000  28.100000  0.167  21  0\n",
            "4    0  137.0  40.000000  35.00000  168.000000  43.100000  2.288  33  1\n",
            "5    5  116.0  74.000000  29.15342  155.548223  25.600000  0.201  30  0\n",
            "6    3   78.0  50.000000  32.00000   88.000000  31.000000  0.248  26  1\n",
            "7   10  115.0  72.405184  29.15342  155.548223  35.300000  0.134  29  0\n",
            "8    2  197.0  70.000000  45.00000  543.000000  30.500000  0.158  53  1\n",
            "9    8  125.0  96.000000  29.15342  155.548223  32.457464  0.232  54  1\n",
            "10   4  110.0  92.000000  29.15342  155.548223  37.600000  0.191  30  0\n",
            "11  10  168.0  74.000000  29.15342  155.548223  38.000000  0.537  34  1\n",
            "12  10  139.0  80.000000  29.15342  155.548223  27.100000  1.441  57  0\n",
            "13   1  189.0  60.000000  23.00000  846.000000  30.100000  0.398  59  1\n",
            "14   5  166.0  72.000000  19.00000  175.000000  25.800000  0.587  51  1\n",
            "15   7  100.0  72.405184  29.15342  155.548223  30.000000  0.484  32  1\n",
            "16   0  118.0  84.000000  47.00000  230.000000  45.800000  0.551  31  1\n",
            "17   7  107.0  74.000000  29.15342  155.548223  29.600000  0.254  31  1\n",
            "18   1  103.0  30.000000  38.00000   83.000000  43.300000  0.183  33  0\n",
            "19   1  115.0  70.000000  30.00000   96.000000  34.600000  0.529  32  1\n"
          ]
        }
      ]
    },
    {
      "cell_type": "code",
      "source": [
        "# example of imputing missing values using scikit-learn\n",
        "from numpy import nan\n",
        "from numpy import isnan\n",
        "from pandas import read_csv\n",
        "from sklearn.impute import SimpleImputer\n",
        "# load the dataset\n",
        "dataset = read_csv('pima-indians-diabetes.csv', header=None)\n",
        "# mark zero values as missing or NaN\n",
        "dataset[[1,2,3,4,5]] = dataset[[1,2,3,4,5]].replace(0, nan)\n",
        "# retrieve the numpy array\n",
        "values = dataset.values\n",
        "# define the imputer\n",
        "imputer = SimpleImputer(missing_values=nan, strategy='mean')\n",
        "# transform the dataset\n",
        "transformed_values = imputer.fit_transform(values)\n",
        "# count the number of NaN values in each column\n",
        "print(f'Missing: {isnan(transformed_values).sum()}')\n",
        "print(transformed_values[:20])"
      ],
      "metadata": {
        "id": "alxJv8BUO4VH",
        "outputId": "152a3e70-7942-411b-d237-0aeb0f40be34",
        "colab": {
          "base_uri": "https://localhost:8080/"
        }
      },
      "execution_count": 15,
      "outputs": [
        {
          "output_type": "stream",
          "name": "stdout",
          "text": [
            "Missing: 0\n",
            "[[6.00000000e+00 1.48000000e+02 7.20000000e+01 3.50000000e+01\n",
            "  1.55548223e+02 3.36000000e+01 6.27000000e-01 5.00000000e+01\n",
            "  1.00000000e+00]\n",
            " [1.00000000e+00 8.50000000e+01 6.60000000e+01 2.90000000e+01\n",
            "  1.55548223e+02 2.66000000e+01 3.51000000e-01 3.10000000e+01\n",
            "  0.00000000e+00]\n",
            " [8.00000000e+00 1.83000000e+02 6.40000000e+01 2.91534196e+01\n",
            "  1.55548223e+02 2.33000000e+01 6.72000000e-01 3.20000000e+01\n",
            "  1.00000000e+00]\n",
            " [1.00000000e+00 8.90000000e+01 6.60000000e+01 2.30000000e+01\n",
            "  9.40000000e+01 2.81000000e+01 1.67000000e-01 2.10000000e+01\n",
            "  0.00000000e+00]\n",
            " [0.00000000e+00 1.37000000e+02 4.00000000e+01 3.50000000e+01\n",
            "  1.68000000e+02 4.31000000e+01 2.28800000e+00 3.30000000e+01\n",
            "  1.00000000e+00]\n",
            " [5.00000000e+00 1.16000000e+02 7.40000000e+01 2.91534196e+01\n",
            "  1.55548223e+02 2.56000000e+01 2.01000000e-01 3.00000000e+01\n",
            "  0.00000000e+00]\n",
            " [3.00000000e+00 7.80000000e+01 5.00000000e+01 3.20000000e+01\n",
            "  8.80000000e+01 3.10000000e+01 2.48000000e-01 2.60000000e+01\n",
            "  1.00000000e+00]\n",
            " [1.00000000e+01 1.15000000e+02 7.24051842e+01 2.91534196e+01\n",
            "  1.55548223e+02 3.53000000e+01 1.34000000e-01 2.90000000e+01\n",
            "  0.00000000e+00]\n",
            " [2.00000000e+00 1.97000000e+02 7.00000000e+01 4.50000000e+01\n",
            "  5.43000000e+02 3.05000000e+01 1.58000000e-01 5.30000000e+01\n",
            "  1.00000000e+00]\n",
            " [8.00000000e+00 1.25000000e+02 9.60000000e+01 2.91534196e+01\n",
            "  1.55548223e+02 3.24574637e+01 2.32000000e-01 5.40000000e+01\n",
            "  1.00000000e+00]\n",
            " [4.00000000e+00 1.10000000e+02 9.20000000e+01 2.91534196e+01\n",
            "  1.55548223e+02 3.76000000e+01 1.91000000e-01 3.00000000e+01\n",
            "  0.00000000e+00]\n",
            " [1.00000000e+01 1.68000000e+02 7.40000000e+01 2.91534196e+01\n",
            "  1.55548223e+02 3.80000000e+01 5.37000000e-01 3.40000000e+01\n",
            "  1.00000000e+00]\n",
            " [1.00000000e+01 1.39000000e+02 8.00000000e+01 2.91534196e+01\n",
            "  1.55548223e+02 2.71000000e+01 1.44100000e+00 5.70000000e+01\n",
            "  0.00000000e+00]\n",
            " [1.00000000e+00 1.89000000e+02 6.00000000e+01 2.30000000e+01\n",
            "  8.46000000e+02 3.01000000e+01 3.98000000e-01 5.90000000e+01\n",
            "  1.00000000e+00]\n",
            " [5.00000000e+00 1.66000000e+02 7.20000000e+01 1.90000000e+01\n",
            "  1.75000000e+02 2.58000000e+01 5.87000000e-01 5.10000000e+01\n",
            "  1.00000000e+00]\n",
            " [7.00000000e+00 1.00000000e+02 7.24051842e+01 2.91534196e+01\n",
            "  1.55548223e+02 3.00000000e+01 4.84000000e-01 3.20000000e+01\n",
            "  1.00000000e+00]\n",
            " [0.00000000e+00 1.18000000e+02 8.40000000e+01 4.70000000e+01\n",
            "  2.30000000e+02 4.58000000e+01 5.51000000e-01 3.10000000e+01\n",
            "  1.00000000e+00]\n",
            " [7.00000000e+00 1.07000000e+02 7.40000000e+01 2.91534196e+01\n",
            "  1.55548223e+02 2.96000000e+01 2.54000000e-01 3.10000000e+01\n",
            "  1.00000000e+00]\n",
            " [1.00000000e+00 1.03000000e+02 3.00000000e+01 3.80000000e+01\n",
            "  8.30000000e+01 4.33000000e+01 1.83000000e-01 3.30000000e+01\n",
            "  0.00000000e+00]\n",
            " [1.00000000e+00 1.15000000e+02 7.00000000e+01 3.00000000e+01\n",
            "  9.60000000e+01 3.46000000e+01 5.29000000e-01 3.20000000e+01\n",
            "  1.00000000e+00]]\n"
          ]
        }
      ]
    },
    {
      "cell_type": "code",
      "source": [
        "# example of imputing missing values using KNN imputer\n",
        "from numpy import nan\n",
        "from numpy import isnan\n",
        "from pandas import read_csv\n",
        "from sklearn.impute import KNNImputer\n",
        "# load the dataset\n",
        "dataset = read_csv('pima-indians-diabetes.csv', header=None)\n",
        "# mark zero values as missing or NaN\n",
        "dataset[[1,2,3,4,5]] = dataset[[1,2,3,4,5]].replace(0, nan)\n",
        "# retrieve the numpy array\n",
        "values = dataset.values\n",
        "# define the imputer\n",
        "imputer = KNNImputer(n_neighbors=4)\n",
        "# transform the dataset\n",
        "transformed_values = imputer.fit_transform(values)\n",
        "# count the number of NaN values in each column\n",
        "print(f'Missing: {isnan(transformed_values).sum()}')\n",
        "print(transformed_values[:20])"
      ],
      "metadata": {
        "id": "u7hNTJTxPmms",
        "outputId": "b4328a93-9d1a-4501-8f38-332a18d926c3",
        "colab": {
          "base_uri": "https://localhost:8080/"
        }
      },
      "execution_count": 20,
      "outputs": [
        {
          "output_type": "stream",
          "name": "stdout",
          "text": [
            "Missing: 0\n",
            "[[6.0000e+00 1.4800e+02 7.2000e+01 3.5000e+01 1.7950e+02 3.3600e+01\n",
            "  6.2700e-01 5.0000e+01 1.0000e+00]\n",
            " [1.0000e+00 8.5000e+01 6.6000e+01 2.9000e+01 6.1000e+01 2.6600e+01\n",
            "  3.5100e-01 3.1000e+01 0.0000e+00]\n",
            " [8.0000e+00 1.8300e+02 6.4000e+01 2.8750e+01 1.6375e+02 2.3300e+01\n",
            "  6.7200e-01 3.2000e+01 1.0000e+00]\n",
            " [1.0000e+00 8.9000e+01 6.6000e+01 2.3000e+01 9.4000e+01 2.8100e+01\n",
            "  1.6700e-01 2.1000e+01 0.0000e+00]\n",
            " [0.0000e+00 1.3700e+02 4.0000e+01 3.5000e+01 1.6800e+02 4.3100e+01\n",
            "  2.2880e+00 3.3000e+01 1.0000e+00]\n",
            " [5.0000e+00 1.1600e+02 7.4000e+01 2.0750e+01 1.0675e+02 2.5600e+01\n",
            "  2.0100e-01 3.0000e+01 0.0000e+00]\n",
            " [3.0000e+00 7.8000e+01 5.0000e+01 3.2000e+01 8.8000e+01 3.1000e+01\n",
            "  2.4800e-01 2.6000e+01 1.0000e+00]\n",
            " [1.0000e+01 1.1500e+02 7.3000e+01 3.6250e+01 1.4100e+02 3.5300e+01\n",
            "  1.3400e-01 2.9000e+01 0.0000e+00]\n",
            " [2.0000e+00 1.9700e+02 7.0000e+01 4.5000e+01 5.4300e+02 3.0500e+01\n",
            "  1.5800e-01 5.3000e+01 1.0000e+00]\n",
            " [8.0000e+00 1.2500e+02 9.6000e+01 2.5250e+01 1.6975e+02 3.3675e+01\n",
            "  2.3200e-01 5.4000e+01 1.0000e+00]\n",
            " [4.0000e+00 1.1000e+02 9.2000e+01 3.0750e+01 1.4575e+02 3.7600e+01\n",
            "  1.9100e-01 3.0000e+01 0.0000e+00]\n",
            " [1.0000e+01 1.6800e+02 7.4000e+01 3.5750e+01 1.5200e+02 3.8000e+01\n",
            "  5.3700e-01 3.4000e+01 1.0000e+00]\n",
            " [1.0000e+01 1.3900e+02 8.0000e+01 2.1500e+01 1.7375e+02 2.7100e+01\n",
            "  1.4410e+00 5.7000e+01 0.0000e+00]\n",
            " [1.0000e+00 1.8900e+02 6.0000e+01 2.3000e+01 8.4600e+02 3.0100e+01\n",
            "  3.9800e-01 5.9000e+01 1.0000e+00]\n",
            " [5.0000e+00 1.6600e+02 7.2000e+01 1.9000e+01 1.7500e+02 2.5800e+01\n",
            "  5.8700e-01 5.1000e+01 1.0000e+00]\n",
            " [7.0000e+00 1.0000e+02 6.9000e+01 2.8000e+01 7.7000e+01 3.0000e+01\n",
            "  4.8400e-01 3.2000e+01 1.0000e+00]\n",
            " [0.0000e+00 1.1800e+02 8.4000e+01 4.7000e+01 2.3000e+02 4.5800e+01\n",
            "  5.5100e-01 3.1000e+01 1.0000e+00]\n",
            " [7.0000e+00 1.0700e+02 7.4000e+01 3.3000e+01 1.1025e+02 2.9600e+01\n",
            "  2.5400e-01 3.1000e+01 1.0000e+00]\n",
            " [1.0000e+00 1.0300e+02 3.0000e+01 3.8000e+01 8.3000e+01 4.3300e+01\n",
            "  1.8300e-01 3.3000e+01 0.0000e+00]\n",
            " [1.0000e+00 1.1500e+02 7.0000e+01 3.0000e+01 9.6000e+01 3.4600e+01\n",
            "  5.2900e-01 3.2000e+01 1.0000e+00]]\n"
          ]
        }
      ]
    }
  ]
}